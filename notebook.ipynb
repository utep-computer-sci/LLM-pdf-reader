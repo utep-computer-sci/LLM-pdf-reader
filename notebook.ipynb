{
 "cells": [
  {
   "cell_type": "markdown",
   "metadata": {},
   "source": [
    "## The first model is a gpt"
   ]
  },
  {
   "cell_type": "code",
   "execution_count": null,
   "metadata": {},
   "outputs": [],
   "source": [
    "import os\n",
    "from dotenv import load_dotenv\n",
    "\n",
    "\n",
    "load_dotenv()"
   ]
  },
  {
   "cell_type": "code",
   "execution_count": 2,
   "metadata": {},
   "outputs": [],
   "source": [
    "# Initially using OPEN AI to compare the results we get from llama\n",
    "OPENAI_API_KEY = os.getenv(\"OPENAI_API_KEY\")\n",
    "\n",
    "MODEL = \"gpt-3.5-turbo\""
   ]
  },
  {
   "cell_type": "code",
   "execution_count": 7,
   "metadata": {},
   "outputs": [
    {
     "data": {
      "text/plain": [
       "AIMessage(content=\"That's great news! Congratulations on securing an interview. Make sure to prepare well by researching the company, practicing common interview questions, and dressing professionally. Good luck!\", response_metadata={'token_usage': {'completion_tokens': 33, 'prompt_tokens': 14, 'total_tokens': 47}, 'model_name': 'gpt-3.5-turbo', 'system_fingerprint': 'fp_3b956da36b', 'finish_reason': 'stop', 'logprobs': None}, id='run-9bd0fa5f-1dfe-489f-ac4b-b7231ffd2127-0')"
      ]
     },
     "execution_count": 7,
     "metadata": {},
     "output_type": "execute_result"
    }
   ],
   "source": [
    "from langchain_openai.chat_models import ChatOpenAI\n",
    "from langchain_openai.embeddings import OpenAIEmbeddings\n",
    "\n",
    "model = ChatOpenAI(openai_api_key=OPENAI_API_KEY, model=MODEL)\n",
    "embeddings = OpenAIEmbeddings()\n",
    "\n",
    "\n",
    "# Notice that this generates an AIMessage we need to use a parser to extract the contents of the message\n",
    "model.invoke(\"I have an interview this Monday!\")\n",
    "\n"
   ]
  },
  {
   "cell_type": "markdown",
   "metadata": {},
   "source": [
    "### Notice that the "
   ]
  },
  {
   "cell_type": "code",
   "execution_count": 8,
   "metadata": {},
   "outputs": [
    {
     "data": {
      "text/plain": [
       "\"That's great news! Congratulations on securing an interview. Make sure to prepare well by researching the company, practicing your answers to common interview questions, and dressing professionally. Good luck on Monday!\""
      ]
     },
     "execution_count": 8,
     "metadata": {},
     "output_type": "execute_result"
    }
   ],
   "source": [
    "from langchain_core.output_parsers import StrOutputParser\n",
    "\n",
    "parser = StrOutputParser()\n",
    "\n",
    "# Basic pipe does not change the output for llama prompts as it is already in string format\n",
    "# Still required for openai\n",
    "chain = model | parser\n",
    "\n",
    "chain.invoke(\"I have an interview this Monday!\")"
   ]
  },
  {
   "cell_type": "markdown",
   "metadata": {},
   "source": [
    "### For pdf extraction"
   ]
  },
  {
   "cell_type": "code",
   "execution_count": 11,
   "metadata": {},
   "outputs": [
    {
     "data": {
      "text/plain": [
       "[Document(page_content='pickering test.com\\nPXI 64-Channel Semi-Dynamic Digital I/O 40-419\\nISSUE 2.3  JAN 2024 y64-Channel I/O (8 Ports of 8 Channels)\\n yI/O Direction Selection for Each Port/Channel\\n yOpen-Drain Outputs (Low side Driver) for \\nEvery Channel\\n yUp to 60 V External Voltage Clamping \\nCapability for Each Port\\n yOver Output Current Limitation Detection for \\nEvery Channel\\n ySemi-Dynamic 8-bit Pattern Acquistion/\\nGeneration with Internal/External Clock\\n yVISA, IVI & Kernel Drivers Supplied for \\nWindows\\n ySupported by PXI or LXI Chassis\\n y3 Year Warranty\\nDigital I/O modules in general are \\nsuitable for operating external devices, \\nsuch as power, RF and high voltage \\nrelays, solenoids and lamps. They \\ncan also be used for interfacing with \\nexternal logic such as a programmable \\ninstrument with a BCD interface \\ndepending upon the module’s driving \\ncapabilities.\\nThe 40-419 is available with 16, 32, 48 \\nor 64 channels arranged in ports of 8.  \\nEach port can be set as 8 inputs or 8 \\noutputs together, as well as setting \\nindividual channel as a input or output \\nwithin a single port. The outputs are \\ncapable of driving loads up to 300 mA, \\nand can be configured to clamp voltage \\nto internal +3.3 V, +5 V, +12 V or +24 V \\nrails, or to externally supplied rail up to \\n+60 V.\\nThe built in protection systems include \\nover current detection for every \\nchannel and an over-voltage clamp so \\nthe module can drive relay coils without \\nthe use of fly-back diodes.\\nConnection to the module’s input and \\noutputs is via a 160-pin DIN 41612 \\nfront panel mounted plug which is fully \\nsupported by a range of connector \\naccessories.\\n40-419  \\n64-Channel  \\nDigital I/O  \\nModule  \\nOverview  \\nDiagramPXI BusPCI\\nInterface8-Bit Digital I/O\\nPort 2DATA 1.0-1.7\\nCLAMP 1\\nCLK 18\\n8-Bit Digital I/O\\nPort 3DATA 2.0-2.7\\nCLAMP 2\\nCLK 28\\n8-Bit Digital I/O\\nPort 4DATA 3.0-3.7\\nCLAMP 3\\nCLK 388-Bit Digital I/O\\nPort 1DATA 0.0-0.7\\nCLAMP 0\\nCLK 08\\n8-Bit Digital I/O\\nPort 6DATA 5.0-5.7\\nCLAMP 5\\nCLK 58\\n8-Bit Digital I/O\\nPort 7DATA 6.0-6.7\\nCLAMP 6\\nCLK 68\\n8-Bit Digital I/O\\nPort 8DATA 7.0-7.7\\nCLAMP 7\\nCLK 788-Bit Digital I/O\\nPort 5DATA 4.0-4.7\\nCLAMP 4\\nCLK 48160-pin\\nFront\\nPanel\\nConnectorGCLK', metadata={'source': '40-419D.pdf', 'page': 0}),\n",
       " Document(page_content='64-Channel Semi-Dynamic Digital I/O, 40-419pickering test.com\\nSpecificationsI/O Specifications\\nNumber of Channels: 64, 48, 32 or 16 (in groups of 8)\\nDirection of Channel: Selectable for each port/each \\nchannel\\nChannel Voltage*: Up to 60 V (via external supply)\\n+3.3 V, +5 V, +12V, +24 V  \\n(built-in voltage rail selection \\nfor clamping/fly back only)\\nInput Channel VIH min:  \\nIntput Channel VIL max:2.0 V  \\n1.5 V\\nInput Impedance: ≥ 65 kΩ\\nOutput Current sink limit  \\n(open collector): \\n300 mA maximum\\nData Bandwidth †  \\nUsing GCLK/CLKx:  \\nUsing Internal Clock: \\n230 kHz  \\n330 kHz\\n* For full voltage rating, signal sources must be fully \\nisolated from mains supply and safety earth\\n† Test condition of data bandwidth measurement:  \\n1 kΩ pull-up @ +5 V.\\nPower Requirements\\n+3.3 V +5 V +12 V -12 V\\n230 mA 2 mA < 2 mA 0Operating/Storage Conditions\\nOperating Conditions\\nOperating Temperature:  \\nHumidity:  \\nAltitude:0 °C to +55 °C  \\nUp to 90 % non-condensing  \\n5000 m\\nStorage and Transport Conditions\\nStorage Temperature:  \\nHumidity:  \\nAltitude:-20 °C to +75 °C  \\nUp to 90 % non-condensing  \\n15000m\\nPXI & CompactPCI Compliance\\nThe module is compliant with the PXI Specification 2.2. \\nLocal Bus, Trigger Bus & Star Trigger are not implemented.\\nUses a 33 MHz 32-bit backplane interface.\\nSafety & CE Compliance\\nAll modules are fully CE compliant and meet applicable  \\nEU directives:  Low-voltage safety EN61010-1:2010,  \\nEMC Immunity EN61326-1:2013,  \\nEmissions EN55011:2009+A1:2010.Mechanical Characteristics\\nSingle slot 3U PXI (CompactPCI card).  \\n3D models for all versions in a variety of popular file \\nformats are available on request.\\nConnectors\\nPXI bus via 32-bit P1/J1 backplane connector.  \\nSignals via front panel 160-pin male DIN 41612 connector, \\nfor pin outs please refer to the operating manual.', metadata={'source': '40-419D.pdf', 'page': 1}),\n",
       " Document(page_content='64-Channel Semi-Dynamic Digital I/O, 40-419pickering test.com\\nOrdering InformationMating Connectors & Cabling\\nFor connection accessories for the 40-419 modules \\nplease refer to the 90-001D  160-pin DIN 41612 Connector \\nAccessories data sheet where a complete list and \\ndocumentation can be found for accessories, or refer to \\nthe Connection Solutions catalog.Product Order Codes\\nPXI Semi-Dynamic Digital I/O Module\\n64-Channel  \\n48-Channel  \\n32-Channel  \\n16-Channel40-419-001  \\n40-419-002  \\n40-419-003  \\n40-419-004\\nNote:  These modules are also available in PXIe versions, \\nplease contact the factory for details.\\nProduct Customization\\nPickering modules are designed and manufactured on our \\nown flexible manufacturing lines, giving complete product \\ncontrol and enabling simple customization to meet very \\nspecific requirements.\\nAll customized products are given a unique part number, \\nfully documented and may be ordered at any time in the \\nfuture. Please contact your local sales office to discuss.', metadata={'source': '40-419D.pdf', 'page': 2}),\n",
       " Document(page_content='64-Channel Semi-Dynamic Digital I/O, 40-419pickering test.com\\nSupporting Products & SoftwareWe also offer customized cabling and have a free online Cable Design Tool  \\nthat can be used to create custom cable solutions for many applications.  \\nVisit:  pickeringtest.com/cdt   to start your design.\\nMass Interconnect\\nWe recommend the use of a mass interconnect solution when an \\nInterchangeable Test Adapter (ITA) is required for a PXI or LXI based \\ntest system. Our modules are fully supported by both Virginia Panel and \\nMacPanel.\\nPickering Reed Relays\\nWe are the only switch provider with in-house reed relay manufacturing \\ncapability via our Relay Division. These instrument grade reed relays feature \\nSoftCenter ™ technology, ensuring long service life and repeatable contact \\nperformance. To learn more, please go to:  pickeringrelay.comChassis Compatibility\\nThis PXI module must be used in a suitable chassis. It is compatible with the following chassis types:\\n• All chassis conforming to the 3U PXI and 3U Compact PCI (cPCI) specification\\n• Legacy and Hybrid Peripheral slots in a 3U PXI Express (PXIe) chassis\\n• Pickering Interfaces LXI or LXI/USB Modular Chassis\\nChassis Selection Guide\\nStandard PXI or hybrid PXIe Chassis from any Vendor:\\n• Mix our 1000+ PXI switching & simulation modules with \\nany vendor’s PXI instrumentation\\n• Embedded or remote Windows PC control\\n• Real-time Operating System Support\\n• High data bandwidths, especially with PXI Express\\n• Integrated module timing and synchronization\\nPickering LXI or LXI/USB Modular Chassis—only accept \\nour 1000+ PXI Switching & Simulation Modules:\\n• Ethernet or USB control enables remote operation\\n• Low-cost control from practically any controller\\n• LXI provides manual control via Web browsers\\n• Driverless software support\\n• Power sequencing immunity\\n• Ethernet provides chassis/controller voltage isolation\\n• Independence from Windows operating system\\nConnectivity Solutions\\nWe provide a full range of supporting cable and connector solutions for all our switching products—20 connector families \\nwith 1200+ products. We offer everything from simple mating connectors to complex cables assemblies and terminal blocks. \\nAll assemblies are manufactured by Pickering and are guaranteed to mechanically and electrically mate to our modules.\\nConnectors & Backshells Multiway Cable Assemblies RF Cable Assemblies Connector Blocks', metadata={'source': '40-419D.pdf', 'page': 3}),\n",
       " Document(page_content='64-Channel Semi-Dynamic Digital I/O, 40-419pickering test.com\\nSupporting Products & Software\\n© Copyright (2024)  Pickering Interfaces.   All Rights Reserved\\nPickering Interfaces maintains a commitment to continuous product development, consequently we reserve the right to vary from the description given in this data sheet.\\nProgramming\\nPickering provide kernel, IVI and VISA (NI & Keysight) drivers which are compatible with all Microsoft supported versions of \\nWindows and popular older versions. For a list of all supporting operating systems, please see:  pickeringtest.com/os\\nThe VISA driver support is provided for LabVIEW Real Time Operating Systems (Pharlap and Linux-RT). For other RTOS \\nsupport contact Pickering. These drivers may be used with a variety of programming environments and applications including:\\n• Pickering Interfaces Switch Path Manager\\n• National Instruments  products (LabVIEW, LabWindows/CVI, Switch Executive, MAX, TestStand, VeriStand, etc.)\\n• Microsoft Visual Studio  products (Visual Basic, Visual C++)\\n• Programming Languages  C, C++, C#, Python\\n• Keysight  VEE and OpenTAP\\n• Mathworks  Matlab\\n• Marvin  ATEasy\\n• MTQ Testsolutions  Tecap Test & Measurement Suite\\nDrivers for popular Linux distributions are available, other environments are also supported, please contact Pickering \\nwith specific enquiries. We provide Soft Front Panels (SFPs) for our products for familiarity and manual control, as well as \\ncomprehensive documentation and example programs to help you develop test routines with ease.  \\nTo learn more about software drivers and development environments, please go to:  pickeringtest.com/software\\nSignal Routing Software\\nOur signal routing software, Switch Path Manager, automatically selects and energizes  \\nswitch paths through Pickering switching systems. Signal routing is performed by simply  \\ndefining test system endpoints to be connected together, greatly accelerating Test System  \\nsoftware development. To learn more, please go to:  pickeringtest.com/spm\\nDiagnostic Relay Test Tools\\neBIRST  Switching System Test Tools are designed specifically for our PXI,  \\nPCI or LXI products, these tools simplify switching system fault-finding by  \\nquickly testing the system and graphically identifying the faulty relay.  \\nTo learn more, please go to:  pickeringtest.com/ebirst\\nThree Year Warranty & Guaranteed Long-Term Support\\nAll standard products manufactured by Pickering Interfaces are warranted against defective materials and workmanship for \\na period of three years from the date of delivery to the original purchaser. Extended warranty and service agreements are \\navailable for all our modules and systems with various levels to suit your requirements. Although we offer a 3-year warranty \\nas standard, we also include guaranteed long-term support—with a history of supporting our products for typically 15-20 \\nyears. To learn more, please go to:  pickeringtest.com/ support\\nAvailable Product Resources\\nWe have a large library of product resources including success stories, product and support videos, articles and white papers \\nas well as application specific product brochures to assist when looking for the switching, simulation and connection \\nsolutions you need. We also have handy reference books on Switching Technology and for the PXI and LXI standards.  \\nTo view, download or request any of our product resources, please visit:  pickeringtest.com/resources', metadata={'source': '40-419D.pdf', 'page': 4})]"
      ]
     },
     "execution_count": 11,
     "metadata": {},
     "output_type": "execute_result"
    }
   ],
   "source": [
    "from langchain_community.document_loaders import PyPDFLoader\n",
    "\n",
    "loader = PyPDFLoader(\"40-419D.pdf\")\n",
    "pages = loader.load_and_split()\n",
    "pages"
   ]
  },
  {
   "cell_type": "code",
   "execution_count": 12,
   "metadata": {},
   "outputs": [
    {
     "name": "stdout",
     "output_type": "stream",
     "text": [
      "\n",
      "Answer the question based on the context below. If you can't answer the question, reply \"N/A\".\n",
      "\n",
      "Context: Here is some context\n",
      "\n",
      "Question: Here is a question\n",
      "\n"
     ]
    }
   ],
   "source": [
    "from langchain.prompts import PromptTemplate\n",
    "\n",
    "template = \"\"\"\n",
    "Answer the question based on the context below. If you can't answer the question, reply \"N/A\".\n",
    "\n",
    "Context: {context}\n",
    "\n",
    "Question: {question}\n",
    "\"\"\"\n",
    "\n",
    "prompt = PromptTemplate.from_template(template)\n",
    "print(prompt.format(context = \"Here is some context\", question = \"Here is a question\"))"
   ]
  },
  {
   "cell_type": "code",
   "execution_count": 13,
   "metadata": {},
   "outputs": [],
   "source": [
    "chain = prompt | model"
   ]
  },
  {
   "cell_type": "code",
   "execution_count": 14,
   "metadata": {},
   "outputs": [
    {
     "data": {
      "text/plain": [
       "{'title': 'PromptInput',\n",
       " 'type': 'object',\n",
       " 'properties': {'context': {'title': 'Context', 'type': 'string'},\n",
       "  'question': {'title': 'Question', 'type': 'string'}}}"
      ]
     },
     "execution_count": 14,
     "metadata": {},
     "output_type": "execute_result"
    }
   ],
   "source": [
    "chain.input_schema.schema()"
   ]
  },
  {
   "cell_type": "code",
   "execution_count": 15,
   "metadata": {},
   "outputs": [
    {
     "data": {
      "text/plain": [
       "AIMessage(content='Super Mario Sunshine was released in 2002.', response_metadata={'token_usage': {'completion_tokens': 10, 'prompt_tokens': 63, 'total_tokens': 73}, 'model_name': 'gpt-3.5-turbo', 'system_fingerprint': 'fp_3b956da36b', 'finish_reason': 'stop', 'logprobs': None}, id='run-ccb0a24c-3ee4-48e9-a9c6-563e07b47e49-0')"
      ]
     },
     "execution_count": 15,
     "metadata": {},
     "output_type": "execute_result"
    }
   ],
   "source": [
    "chain.invoke(\n",
    "    {\n",
    "        \"context\": \"Super Mario Sunshine was released in 2002. Super Mario 64 was released in 1996\",\n",
    "        \"question\": \"What year was Super Mario Sunshine released?\"\n",
    "\n",
    "    }\n",
    ")"
   ]
  },
  {
   "cell_type": "code",
   "execution_count": null,
   "metadata": {},
   "outputs": [],
   "source": [
    "from langchain_community.vectorstores import DocArrayInMemorySearch\n",
    "\n",
    "vectorstore = DocArrayInMemorySearch.from_documents(\n",
    "    pages,\n",
    "    embedding=embeddings\n",
    "    \n",
    "    )"
   ]
  },
  {
   "cell_type": "code",
   "execution_count": 9,
   "metadata": {},
   "outputs": [],
   "source": [
    "retriever = vectorstore.as_retriever()"
   ]
  },
  {
   "cell_type": "code",
   "execution_count": 10,
   "metadata": {},
   "outputs": [],
   "source": [
    "from operator import itemgetter\n",
    "\n",
    "chain = (\n",
    "    {\n",
    "        \"context\": itemgetter(\"question\") | retriever,\n",
    "        \"question\": itemgetter(\"question\"),\n",
    "    }\n",
    "    | prompt\n",
    "    | model\n",
    "    | parser\n",
    ")"
   ]
  },
  {
   "cell_type": "markdown",
   "metadata": {},
   "source": [
    "### Initialize dataframe to hold responses"
   ]
  },
  {
   "cell_type": "code",
   "execution_count": 12,
   "metadata": {},
   "outputs": [],
   "source": [
    "import re\n",
    "import pandas as pd\n",
    "\n",
    "df = pd.DataFrame(columns=['Name', 'Max Voltage', 'Max Current', 'Bandwith'])"
   ]
  },
  {
   "cell_type": "code",
   "execution_count": 13,
   "metadata": {},
   "outputs": [],
   "source": [
    "def extract_number(response):\n",
    "    match = re.search(r'\\d+', response)\n",
    "\n",
    "    if match:\n",
    "        number_str = match.group()\n",
    "        number = int(number_str)\n",
    "        return number\n",
    "    else:\n",
    "        return 0"
   ]
  },
  {
   "cell_type": "code",
   "execution_count": 14,
   "metadata": {},
   "outputs": [],
   "source": [
    "def extract_name(response):\n",
    "    match = re.search(r'\"([^\"]*)\"', response)\n",
    "\n",
    "    if match:\n",
    "        str_in_quotes = match.group(1)\n",
    "        return str_in_quotes\n",
    "    else:\n",
    "        return response"
   ]
  },
  {
   "cell_type": "code",
   "execution_count": 15,
   "metadata": {},
   "outputs": [
    {
     "name": "stdout",
     "output_type": "stream",
     "text": [
      "Question: Retrieve the product name and nothing more\n",
      "Answer: The product name is: 64-Channel Semi-Dynamic Digital I/O, 40-419.\n",
      "\n",
      "Question: Retrieve the maximum voltage from the I/O specifications. Please only return a number and nothing else\n",
      "Answer: 60 V\n",
      "\n",
      "Question: Retrieve the maximum current from the I/O specifications. Please only return a number and nothing else\n",
      "Answer: 300\n",
      "\n"
     ]
    },
    {
     "ename": "TypeError",
     "evalue": "unsupported operand type(s) for /: 'function' and 'int'",
     "output_type": "error",
     "traceback": [
      "\u001b[1;31m---------------------------------------------------------------------------\u001b[0m",
      "\u001b[1;31mTypeError\u001b[0m                                 Traceback (most recent call last)",
      "Cell \u001b[1;32mIn[15], line 20\u001b[0m\n\u001b[0;32m     18\u001b[0m     df\u001b[38;5;241m.\u001b[39mloc[\u001b[38;5;28mlen\u001b[39m(df) \u001b[38;5;241m-\u001b[39m \u001b[38;5;241m1\u001b[39m, \u001b[38;5;124m'\u001b[39m\u001b[38;5;124m Max Voltage\u001b[39m\u001b[38;5;124m'\u001b[39m] \u001b[38;5;241m=\u001b[39m response  \u001b[38;5;66;03m# Voltage question follows the product name question\u001b[39;00m\n\u001b[0;32m     19\u001b[0m \u001b[38;5;28;01melif\u001b[39;00m \u001b[38;5;124m\"\u001b[39m\u001b[38;5;124mcurrent\u001b[39m\u001b[38;5;124m\"\u001b[39m \u001b[38;5;129;01min\u001b[39;00m question\u001b[38;5;241m.\u001b[39mlower():\n\u001b[1;32m---> 20\u001b[0m     df\u001b[38;5;241m.\u001b[39mloc[\u001b[38;5;28mlen\u001b[39m(df) \u001b[38;5;241m-\u001b[39m \u001b[38;5;241m1\u001b[39m, \u001b[38;5;124m'\u001b[39m\u001b[38;5;124mMax Current\u001b[39m\u001b[38;5;124m'\u001b[39m] \u001b[38;5;241m=\u001b[39m (\u001b[43mextract_number\u001b[49m\u001b[38;5;241;43m/\u001b[39;49m\u001b[38;5;241;43m1000\u001b[39;49m)  \u001b[38;5;66;03m# Current question follows the voltage question\u001b[39;00m\n\u001b[0;32m     21\u001b[0m \u001b[38;5;28;01melif\u001b[39;00m \u001b[38;5;124m\"\u001b[39m\u001b[38;5;124mbandwidth\u001b[39m\u001b[38;5;124m\"\u001b[39m \u001b[38;5;129;01min\u001b[39;00m question\u001b[38;5;241m.\u001b[39mlower():\n\u001b[0;32m     22\u001b[0m     df\u001b[38;5;241m.\u001b[39mloc[\u001b[38;5;28mlen\u001b[39m(df) \u001b[38;5;241m-\u001b[39m \u001b[38;5;241m1\u001b[39m, \u001b[38;5;124m'\u001b[39m\u001b[38;5;124mBandwidth\u001b[39m\u001b[38;5;124m'\u001b[39m] \u001b[38;5;241m=\u001b[39m response  \u001b[38;5;66;03m# Bandwidth question follows the current question\u001b[39;00m\n",
      "\u001b[1;31mTypeError\u001b[0m: unsupported operand type(s) for /: 'function' and 'int'"
     ]
    }
   ],
   "source": [
    "questions = [\n",
    "    \"Retrieve the product name and nothing more\",\n",
    "    \"Retrieve the maximum voltage from the I/O specifications. Please only return a number and nothing else\",\n",
    "    \"Retrieve the maximum current from the I/O specifications. Please only return a number and nothing else\",\n",
    "    \"Retrieve the bandwith from the I/O specifications. The bandwith associated with kHz.Please only return a number and nothing else\",\n",
    "]\n",
    "\n",
    "for question in questions:\n",
    "    print(f\"Question: {question}\")\n",
    "    # print(f\"Answer: {chain.invoke({'question': question})}\")\n",
    "    response = chain.invoke({'question': question})\n",
    "    print(f\"Answer: {response}\")\n",
    "    print()\n",
    "\n",
    "    if \"product name\" in question.lower():\n",
    "        df.loc[len(df)] = [extract_name(response), None, None, None]  # First question is about the product name\n",
    "    elif \"voltage\" in question.lower():\n",
    "        df.loc[len(df) - 1, ' Max Voltage'] = response  # Voltage question follows the product name question\n",
    "    elif \"current\" in question.lower():\n",
    "        df.loc[len(df) - 1, 'Max Current'] = (extract_number(response)/1000)  # Current question follows the voltage question\n",
    "    elif \"bandwidth\" in question.lower():\n",
    "        df.loc[len(df) - 1, 'Bandwidth'] = response  # Bandwidth question follows the current question"
   ]
  },
  {
   "cell_type": "code",
   "execution_count": null,
   "metadata": {},
   "outputs": [
    {
     "name": "stdout",
     "output_type": "stream",
     "text": [
      "                                                name max voltage max current  \\\n",
      "0  The product name is \"64-Channel Semi-Dynamic D...        None        None   \n",
      "\n",
      "  bandwith voltage current  \n",
      "0     None      60     300  \n"
     ]
    }
   ],
   "source": [
    "print(df)"
   ]
  },
  {
   "cell_type": "code",
   "execution_count": null,
   "metadata": {},
   "outputs": [
    {
     "data": {
      "text/html": [
       "<div>\n",
       "<style scoped>\n",
       "    .dataframe tbody tr th:only-of-type {\n",
       "        vertical-align: middle;\n",
       "    }\n",
       "\n",
       "    .dataframe tbody tr th {\n",
       "        vertical-align: top;\n",
       "    }\n",
       "\n",
       "    .dataframe thead th {\n",
       "        text-align: right;\n",
       "    }\n",
       "</style>\n",
       "<table border=\"1\" class=\"dataframe\">\n",
       "  <thead>\n",
       "    <tr style=\"text-align: right;\">\n",
       "      <th></th>\n",
       "      <th>name</th>\n",
       "      <th>max voltage</th>\n",
       "      <th>max current</th>\n",
       "      <th>bandwith</th>\n",
       "    </tr>\n",
       "  </thead>\n",
       "  <tbody>\n",
       "  </tbody>\n",
       "</table>\n",
       "</div>"
      ],
      "text/plain": [
       "Empty DataFrame\n",
       "Columns: [name, max voltage, max current, bandwith]\n",
       "Index: []"
      ]
     },
     "execution_count": 28,
     "metadata": {},
     "output_type": "execute_result"
    }
   ],
   "source": [
    "df"
   ]
  },
  {
   "cell_type": "code",
   "execution_count": null,
   "metadata": {},
   "outputs": [],
   "source": [
    "df.to_csv('data.csv', index=False)"
   ]
  }
 ],
 "metadata": {
  "kernelspec": {
   "display_name": ".venv",
   "language": "python",
   "name": "python3"
  },
  "language_info": {
   "codemirror_mode": {
    "name": "ipython",
    "version": 3
   },
   "file_extension": ".py",
   "mimetype": "text/x-python",
   "name": "python",
   "nbconvert_exporter": "python",
   "pygments_lexer": "ipython3",
   "version": "3.12.3"
  }
 },
 "nbformat": 4,
 "nbformat_minor": 2
}
